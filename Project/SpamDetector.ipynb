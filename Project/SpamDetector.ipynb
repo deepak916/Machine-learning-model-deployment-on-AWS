{
 "cells": [
  {
   "cell_type": "code",
   "execution_count": null,
   "metadata": {
    "colab": {
     "base_uri": "https://localhost:8080/",
     "height": 51
    },
    "id": "RwV-VjYbs-bE",
    "outputId": "623086ae-6d86-4754-a496-5ad0f503c3be"
   },
   "outputs": [],
   "source": [
    "#import libraries\n",
    "import pandas as pd\n",
    "import nltk\n",
    "nltk.download('stopwords')\n",
    "from nltk.tokenize import RegexpTokenizer\n",
    "from nltk.corpus import stopwords\n",
    "from nltk.stem.porter import PorterStemmer"
   ]
  },
  {
   "cell_type": "code",
   "execution_count": null,
   "metadata": {
    "colab": {
     "base_uri": "https://localhost:8080/",
     "height": 204
    },
    "id": "pZfTrcWftBh_",
    "outputId": "3e924e40-cb49-4cd5-916d-308b6cec37ba"
   },
   "outputs": [],
   "source": [
    "#https://www.kaggle.com/uciml/sms-spam-collection-dataset\n",
    "df_train = pd.read_csv('spam_train.csv', encoding='ISO-8859-1')\n",
    "df_train.head(5)"
   ]
  },
  {
   "cell_type": "code",
   "execution_count": null,
   "metadata": {
    "colab": {
     "base_uri": "https://localhost:8080/",
     "height": 204
    },
    "id": "eXfDnOhaYmhp",
    "outputId": "43573b70-a6f4-4a1d-b961-3b3ed53cd395"
   },
   "outputs": [],
   "source": [
    "df_test = pd.read_csv('spam_test.csv', encoding='ISO-8859-1')\n",
    "df_test.head(5)"
   ]
  },
  {
   "cell_type": "code",
   "execution_count": null,
   "metadata": {
    "id": "1VRQ8ODkCX97"
   },
   "outputs": [],
   "source": [
    "tokenizer=RegexpTokenizer('r\\w+')\n",
    "stopwords_english=set(stopwords.words('english'))\n",
    "\n",
    "#Tokenizing & stemming & removing stop words\n",
    "def cleanSms(sms):\n",
    " sms=sms.replace(\"<br /><br />\",\" \")\n",
    " sms=sms.lower()\n",
    " sms_tokens=tokenizer.tokenize(sms)\n",
    " sms_tokens_without_stopwords=[token for token in sms_tokens if token not in stopwords_english]\n",
    " stemmed_sms_tokens_without_stopwords=[PorterStemmer().stem(token) for token in sms_tokens_without_stopwords]\n",
    " cleaned_sms=' '.join(stemmed_sms_tokens_without_stopwords)\n",
    " return cleaned_sms"
   ]
  },
  {
   "cell_type": "code",
   "execution_count": null,
   "metadata": {
    "id": "RTBxD7dcIzAR"
   },
   "outputs": [],
   "source": [
    "#Clean the data & plot it on X & Y\n",
    "df_train['sms'].apply(cleanSms)\n",
    "x_train = df_train['sms'].values\n",
    "y_train = df_train['category'].values\n",
    "\n",
    "df_test['sms'].apply(cleanSms)\n",
    "x_test = df_test['sms'].values\n",
    "y_test = df_test['category'].values"
   ]
  },
  {
   "cell_type": "code",
   "execution_count": null,
   "metadata": {
    "colab": {
     "base_uri": "https://localhost:8080/",
     "height": 375
    },
    "id": "UZhhshihJMps",
    "outputId": "25027b2f-4d92-4867-a2c7-064c3c3ae3fc"
   },
   "outputs": [],
   "source": [
    "#Vectorze the data\n",
    "from sklearn.feature_extraction.text import TfidfVectorizer\n",
    "vectorizer = TfidfVectorizer(sublinear_tf=True, encoding='ISO-8859-1')\n",
    "vectorizer.fit(x_train)\n",
    "x_train=vectorizer.transform(x_train)\n",
    "x_test=vectorizer.transform(x_test)"
   ]
  },
  {
   "cell_type": "code",
   "execution_count": null,
   "metadata": {
    "colab": {
     "base_uri": "https://localhost:8080/",
     "height": 102
    },
    "id": "VDtdH5lYJaG_",
    "outputId": "3bab1387-8531-4eb7-9e0e-9903ba273754"
   },
   "outputs": [],
   "source": [
    "#Create model\n",
    "from sklearn.linear_model import LogisticRegression\n",
    "model=LogisticRegression(solver='lbfgs')\n",
    "model.fit(x_train,y_train)"
   ]
  },
  {
   "cell_type": "code",
   "execution_count": null,
   "metadata": {},
   "outputs": [],
   "source": [
    "#Predict Spam\n",
    "model.predict(vectorizer.transform([\"you won $900 in the new lottery draw. Call +123456789.\"]))"
   ]
  },
  {
   "cell_type": "code",
   "execution_count": null,
   "metadata": {},
   "outputs": [],
   "source": [
    "#Predict Ham\n",
    "model.predict(vectorizer.transform([\"Hello there. How are you doing?\"]))"
   ]
  },
  {
   "cell_type": "markdown",
   "metadata": {},
   "source": [
    "# Pickle operation"
   ]
  },
  {
   "cell_type": "code",
   "execution_count": null,
   "metadata": {
    "colab": {
     "base_uri": "https://localhost:8080/",
     "height": 34
    },
    "id": "8WqAULF3J4hj",
    "outputId": "305f1da3-fa21-48c1-f080-e0ccdf69596e"
   },
   "outputs": [],
   "source": [
    "import joblib\n",
    "joblib.dump(model,'spam_ham_model.pkl')\n",
    "joblib.dump(vectorizer,'vectorizer.pkl')"
   ]
  }
 ],
 "metadata": {
  "colab": {
   "name": "SpamDetector.ipynb",
   "provenance": []
  },
  "kernelspec": {
   "display_name": "Python 3",
   "language": "python",
   "name": "python3"
  },
  "language_info": {
   "codemirror_mode": {
    "name": "ipython",
    "version": 3
   },
   "file_extension": ".py",
   "mimetype": "text/x-python",
   "name": "python",
   "nbconvert_exporter": "python",
   "pygments_lexer": "ipython3",
   "version": "3.6.9"
  }
 },
 "nbformat": 4,
 "nbformat_minor": 4
}
